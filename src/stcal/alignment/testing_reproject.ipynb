{
 "cells": [
  {
   "cell_type": "code",
   "execution_count": 6,
   "metadata": {},
   "outputs": [],
   "source": [
    "from reproject import reproject_coords\n",
    "from stwcs.wcsutil import HSTWCS\n",
    "from astropy.wcs import WCS\n",
    "from astropy.io import fits\n",
    "import numpy as np"
   ]
  },
  {
   "cell_type": "code",
   "execution_count": 15,
   "metadata": {},
   "outputs": [
    {
     "data": {
      "text/plain": [
       "(2999.9999999998668, 2999.9999999999286)"
      ]
     },
     "execution_count": 15,
     "metadata": {},
     "output_type": "execute_result"
    }
   ],
   "source": [
    "hdu1=fits.open('hst_12546_22_acs_wfc_f606w_jbt122x1_drc.fits')\n",
    "hdu2=fits.open('hst_12546_22_acs_wfc_f814w_jbt122_drc.fits')\n",
    "wcs1=WCS(hdu1[1].header)\n",
    "wcs2=WCS(hdu2[1].header)\n",
    "# wcs2 = HSTWCS('jcdm74guq_drc.fits', ext=1)\n",
    "f = reproject_coords(wcs1, wcs2)\n",
    "f([3000], [3000])"
   ]
  },
  {
   "cell_type": "code",
   "execution_count": null,
   "metadata": {},
   "outputs": [],
   "source": []
  },
  {
   "cell_type": "code",
   "execution_count": null,
   "metadata": {},
   "outputs": [],
   "source": []
  }
 ],
 "metadata": {
  "kernelspec": {
   "display_name": "base",
   "language": "python",
   "name": "python3"
  },
  "language_info": {
   "codemirror_mode": {
    "name": "ipython",
    "version": 3
   },
   "file_extension": ".py",
   "mimetype": "text/x-python",
   "name": "python",
   "nbconvert_exporter": "python",
   "pygments_lexer": "ipython3",
   "version": "3.9.16"
  },
  "orig_nbformat": 4
 },
 "nbformat": 4,
 "nbformat_minor": 2
}
